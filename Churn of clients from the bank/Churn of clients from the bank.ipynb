{
 "cells": [
  {
   "cell_type": "markdown",
   "metadata": {},
   "source": [
    "# Отток клиентов"
   ]
  },
  {
   "cell_type": "markdown",
   "metadata": {},
   "source": [
    "Компания, осуществляющая банковские услуги, заинтересована в сохранении своих клинтов. Была поставлена задача спрогнозировать - уйдёт клиент из банка в ближайшее время или нет. Для построения модели обучения банк предоставил исторические данные о своих клиентах и факт расторжения договора, если таковой был."
   ]
  },
  {
   "cell_type": "markdown",
   "metadata": {},
   "source": [
    "Описание данных:\n",
    "\n",
    "    RowNumber — индекс строки в данных\n",
    "    CustomerId — уникальный идентификатор клиента\n",
    "    Surname — фамилия\n",
    "    CreditScore — кредитный рейтинг\n",
    "    Geography — страна проживания\n",
    "    Gender — пол\n",
    "    Age — возраст\n",
    "    Tenure — количество недвижимости у клиента\n",
    "    Balance — баланс на счёте\n",
    "    NumOfProducts — количество продуктов банка, используемых клиентом\n",
    "    HasCrCard — наличие кредитной карты\n",
    "    IsActiveMember — активность клиента\n",
    "    EstimatedSalary — предполагаемая зарплата\n",
    "\n",
    "Целевой признак\n",
    "\n",
    "    Exited — факт ухода клиента"
   ]
  },
  {
   "cell_type": "markdown",
   "metadata": {},
   "source": [
    "# 1. Подготовка данных"
   ]
  },
  {
   "cell_type": "code",
   "execution_count": 1,
   "metadata": {},
   "outputs": [],
   "source": [
    "import pandas as pd\n",
    "pd.options.mode.chained_assignment = None\n",
    "from collections import Counter\n",
    "import matplotlib.pyplot as plt\n",
    "from sklearn.model_selection import train_test_split\n",
    "from sklearn.linear_model import LogisticRegression\n",
    "from sklearn.tree import DecisionTreeClassifier\n",
    "from sklearn.ensemble import RandomForestClassifier\n",
    "from sklearn.preprocessing import StandardScaler\n",
    "from sklearn.utils import shuffle\n",
    "import warnings\n",
    "warnings.filterwarnings(\"ignore\", category=FutureWarning)\n",
    "\n",
    "from sklearn.metrics import accuracy_score\n",
    "from sklearn.metrics import precision_score\n",
    "from sklearn.metrics import recall_score\n",
    "from sklearn.metrics import f1_score\n",
    "from sklearn.metrics import r2_score\n",
    "\n",
    "from sklearn.metrics import roc_curve\n",
    "from sklearn.metrics import roc_auc_score"
   ]
  },
  {
   "cell_type": "code",
   "execution_count": 2,
   "metadata": {},
   "outputs": [],
   "source": [
    "churn = pd.read_csv('/datasets/Churn.csv')"
   ]
  },
  {
   "cell_type": "code",
   "execution_count": 3,
   "metadata": {
    "scrolled": false
   },
   "outputs": [
    {
     "data": {
      "text/html": [
       "<div>\n",
       "<style scoped>\n",
       "    .dataframe tbody tr th:only-of-type {\n",
       "        vertical-align: middle;\n",
       "    }\n",
       "\n",
       "    .dataframe tbody tr th {\n",
       "        vertical-align: top;\n",
       "    }\n",
       "\n",
       "    .dataframe thead th {\n",
       "        text-align: right;\n",
       "    }\n",
       "</style>\n",
       "<table border=\"1\" class=\"dataframe\">\n",
       "  <thead>\n",
       "    <tr style=\"text-align: right;\">\n",
       "      <th></th>\n",
       "      <th>RowNumber</th>\n",
       "      <th>CustomerId</th>\n",
       "      <th>Surname</th>\n",
       "      <th>CreditScore</th>\n",
       "      <th>Geography</th>\n",
       "      <th>Gender</th>\n",
       "      <th>Age</th>\n",
       "      <th>Tenure</th>\n",
       "      <th>Balance</th>\n",
       "      <th>NumOfProducts</th>\n",
       "      <th>HasCrCard</th>\n",
       "      <th>IsActiveMember</th>\n",
       "      <th>EstimatedSalary</th>\n",
       "      <th>Exited</th>\n",
       "    </tr>\n",
       "  </thead>\n",
       "  <tbody>\n",
       "    <tr>\n",
       "      <td>0</td>\n",
       "      <td>1</td>\n",
       "      <td>15634602</td>\n",
       "      <td>Hargrave</td>\n",
       "      <td>619</td>\n",
       "      <td>France</td>\n",
       "      <td>Female</td>\n",
       "      <td>42</td>\n",
       "      <td>2.0</td>\n",
       "      <td>0.00</td>\n",
       "      <td>1</td>\n",
       "      <td>1</td>\n",
       "      <td>1</td>\n",
       "      <td>101348.88</td>\n",
       "      <td>1</td>\n",
       "    </tr>\n",
       "    <tr>\n",
       "      <td>1</td>\n",
       "      <td>2</td>\n",
       "      <td>15647311</td>\n",
       "      <td>Hill</td>\n",
       "      <td>608</td>\n",
       "      <td>Spain</td>\n",
       "      <td>Female</td>\n",
       "      <td>41</td>\n",
       "      <td>1.0</td>\n",
       "      <td>83807.86</td>\n",
       "      <td>1</td>\n",
       "      <td>0</td>\n",
       "      <td>1</td>\n",
       "      <td>112542.58</td>\n",
       "      <td>0</td>\n",
       "    </tr>\n",
       "    <tr>\n",
       "      <td>2</td>\n",
       "      <td>3</td>\n",
       "      <td>15619304</td>\n",
       "      <td>Onio</td>\n",
       "      <td>502</td>\n",
       "      <td>France</td>\n",
       "      <td>Female</td>\n",
       "      <td>42</td>\n",
       "      <td>8.0</td>\n",
       "      <td>159660.80</td>\n",
       "      <td>3</td>\n",
       "      <td>1</td>\n",
       "      <td>0</td>\n",
       "      <td>113931.57</td>\n",
       "      <td>1</td>\n",
       "    </tr>\n",
       "  </tbody>\n",
       "</table>\n",
       "</div>"
      ],
      "text/plain": [
       "   RowNumber  CustomerId   Surname  CreditScore Geography  Gender  Age  \\\n",
       "0          1    15634602  Hargrave          619    France  Female   42   \n",
       "1          2    15647311      Hill          608     Spain  Female   41   \n",
       "2          3    15619304      Onio          502    France  Female   42   \n",
       "\n",
       "   Tenure    Balance  NumOfProducts  HasCrCard  IsActiveMember  \\\n",
       "0     2.0       0.00              1          1               1   \n",
       "1     1.0   83807.86              1          0               1   \n",
       "2     8.0  159660.80              3          1               0   \n",
       "\n",
       "   EstimatedSalary  Exited  \n",
       "0        101348.88       1  \n",
       "1        112542.58       0  \n",
       "2        113931.57       1  "
      ]
     },
     "metadata": {},
     "output_type": "display_data"
    },
    {
     "name": "stdout",
     "output_type": "stream",
     "text": [
      "<class 'pandas.core.frame.DataFrame'>\n",
      "RangeIndex: 10000 entries, 0 to 9999\n",
      "Data columns (total 14 columns):\n",
      "RowNumber          10000 non-null int64\n",
      "CustomerId         10000 non-null int64\n",
      "Surname            10000 non-null object\n",
      "CreditScore        10000 non-null int64\n",
      "Geography          10000 non-null object\n",
      "Gender             10000 non-null object\n",
      "Age                10000 non-null int64\n",
      "Tenure             9091 non-null float64\n",
      "Balance            10000 non-null float64\n",
      "NumOfProducts      10000 non-null int64\n",
      "HasCrCard          10000 non-null int64\n",
      "IsActiveMember     10000 non-null int64\n",
      "EstimatedSalary    10000 non-null float64\n",
      "Exited             10000 non-null int64\n",
      "dtypes: float64(3), int64(8), object(3)\n",
      "memory usage: 1.1+ MB\n"
     ]
    }
   ],
   "source": [
    "display(churn.head(3))\n",
    "churn.info()"
   ]
  },
  {
   "cell_type": "code",
   "execution_count": 4,
   "metadata": {},
   "outputs": [
    {
     "data": {
      "text/html": [
       "<div>\n",
       "<style scoped>\n",
       "    .dataframe tbody tr th:only-of-type {\n",
       "        vertical-align: middle;\n",
       "    }\n",
       "\n",
       "    .dataframe tbody tr th {\n",
       "        vertical-align: top;\n",
       "    }\n",
       "\n",
       "    .dataframe thead th {\n",
       "        text-align: right;\n",
       "    }\n",
       "</style>\n",
       "<table border=\"1\" class=\"dataframe\">\n",
       "  <thead>\n",
       "    <tr style=\"text-align: right;\">\n",
       "      <th></th>\n",
       "      <th>rownumber</th>\n",
       "      <th>customerid</th>\n",
       "      <th>surname</th>\n",
       "      <th>creditscore</th>\n",
       "      <th>geography</th>\n",
       "      <th>gender</th>\n",
       "      <th>age</th>\n",
       "      <th>tenure</th>\n",
       "      <th>balance</th>\n",
       "      <th>numofproducts</th>\n",
       "      <th>hascrcard</th>\n",
       "      <th>isactivemember</th>\n",
       "      <th>estimatedsalary</th>\n",
       "      <th>exited</th>\n",
       "    </tr>\n",
       "  </thead>\n",
       "  <tbody>\n",
       "    <tr>\n",
       "      <td>0</td>\n",
       "      <td>1</td>\n",
       "      <td>15634602</td>\n",
       "      <td>Hargrave</td>\n",
       "      <td>619</td>\n",
       "      <td>France</td>\n",
       "      <td>Female</td>\n",
       "      <td>42</td>\n",
       "      <td>2.0</td>\n",
       "      <td>0.0</td>\n",
       "      <td>1</td>\n",
       "      <td>1</td>\n",
       "      <td>1</td>\n",
       "      <td>101348.88</td>\n",
       "      <td>1</td>\n",
       "    </tr>\n",
       "  </tbody>\n",
       "</table>\n",
       "</div>"
      ],
      "text/plain": [
       "   rownumber  customerid   surname  creditscore geography  gender  age  \\\n",
       "0          1    15634602  Hargrave          619    France  Female   42   \n",
       "\n",
       "   tenure  balance  numofproducts  hascrcard  isactivemember  estimatedsalary  \\\n",
       "0     2.0      0.0              1          1               1        101348.88   \n",
       "\n",
       "   exited  \n",
       "0       1  "
      ]
     },
     "metadata": {},
     "output_type": "display_data"
    }
   ],
   "source": [
    "#Заменим названия столбцов (приведем к нижнему регистру):\n",
    "churn.columns = churn.columns.str.lower()\n",
    "display(churn.head(1))"
   ]
  },
  {
   "cell_type": "code",
   "execution_count": 5,
   "metadata": {
    "scrolled": false
   },
   "outputs": [
    {
     "name": "stdout",
     "output_type": "stream",
     "text": [
      "<class 'pandas.core.frame.DataFrame'>\n",
      "RangeIndex: 10000 entries, 0 to 9999\n",
      "Data columns (total 14 columns):\n",
      "rownumber          10000 non-null int64\n",
      "customerid         10000 non-null int64\n",
      "surname            10000 non-null object\n",
      "creditscore        10000 non-null int64\n",
      "geography          10000 non-null object\n",
      "gender             10000 non-null object\n",
      "age                10000 non-null int64\n",
      "tenure             10000 non-null int64\n",
      "balance            10000 non-null float64\n",
      "numofproducts      10000 non-null int64\n",
      "hascrcard          10000 non-null int64\n",
      "isactivemember     10000 non-null int64\n",
      "estimatedsalary    10000 non-null float64\n",
      "exited             10000 non-null int64\n",
      "dtypes: float64(2), int64(9), object(3)\n",
      "memory usage: 1.1+ MB\n"
     ]
    }
   ],
   "source": [
    "#Пропуски (10% от общего числа записей) есть только в столбце \"Недвижимость\". Каких-то зависимостей у пропусков\n",
    "#с другими столбцами не обнаружено, поэтому заменим их на -1:\n",
    "#churn['tenure'] = churn['tenure'].fillna(value=-1).astype('int64')\n",
    "#Попробовал удалить пропуски - показатели стали хуже. Подробности - в самом конце.\n",
    "#churn = churn.dropna(subset=['tenure'])\n",
    "#Попробуем заменить медианой:\n",
    "tenure_med = churn['tenure'].mean()\n",
    "churn['tenure'] = churn['tenure'].fillna(value=tenure_med).astype('int64')\n",
    "#последний вариант чуть предпочтительнее.\n",
    "churn.info()"
   ]
  },
  {
   "cell_type": "code",
   "execution_count": 6,
   "metadata": {
    "scrolled": true
   },
   "outputs": [
    {
     "data": {
      "text/html": [
       "<div>\n",
       "<style scoped>\n",
       "    .dataframe tbody tr th:only-of-type {\n",
       "        vertical-align: middle;\n",
       "    }\n",
       "\n",
       "    .dataframe tbody tr th {\n",
       "        vertical-align: top;\n",
       "    }\n",
       "\n",
       "    .dataframe thead th {\n",
       "        text-align: right;\n",
       "    }\n",
       "</style>\n",
       "<table border=\"1\" class=\"dataframe\">\n",
       "  <thead>\n",
       "    <tr style=\"text-align: right;\">\n",
       "      <th></th>\n",
       "      <th>creditscore</th>\n",
       "      <th>geography</th>\n",
       "      <th>gender</th>\n",
       "      <th>age</th>\n",
       "      <th>tenure</th>\n",
       "      <th>balance</th>\n",
       "      <th>numofproducts</th>\n",
       "      <th>hascrcard</th>\n",
       "      <th>isactivemember</th>\n",
       "      <th>estimatedsalary</th>\n",
       "      <th>exited</th>\n",
       "    </tr>\n",
       "  </thead>\n",
       "  <tbody>\n",
       "    <tr>\n",
       "      <td>0</td>\n",
       "      <td>619</td>\n",
       "      <td>France</td>\n",
       "      <td>Female</td>\n",
       "      <td>42</td>\n",
       "      <td>2</td>\n",
       "      <td>0.0</td>\n",
       "      <td>1</td>\n",
       "      <td>1</td>\n",
       "      <td>1</td>\n",
       "      <td>101348.88</td>\n",
       "      <td>1</td>\n",
       "    </tr>\n",
       "  </tbody>\n",
       "</table>\n",
       "</div>"
      ],
      "text/plain": [
       "   creditscore geography  gender  age  tenure  balance  numofproducts  \\\n",
       "0          619    France  Female   42       2      0.0              1   \n",
       "\n",
       "   hascrcard  isactivemember  estimatedsalary  exited  \n",
       "0          1               1        101348.88       1  "
      ]
     },
     "execution_count": 6,
     "metadata": {},
     "output_type": "execute_result"
    }
   ],
   "source": [
    "#Фамилии клиентов нам не нужны, поскольку не влияют на признаки\n",
    "churn = churn.drop(['rownumber', 'customerid', 'surname'], axis=1)\n",
    "churn.head(1)"
   ]
  },
  {
   "cell_type": "code",
   "execution_count": 7,
   "metadata": {
    "scrolled": true
   },
   "outputs": [
    {
     "data": {
      "text/html": [
       "<div>\n",
       "<style scoped>\n",
       "    .dataframe tbody tr th:only-of-type {\n",
       "        vertical-align: middle;\n",
       "    }\n",
       "\n",
       "    .dataframe tbody tr th {\n",
       "        vertical-align: top;\n",
       "    }\n",
       "\n",
       "    .dataframe thead th {\n",
       "        text-align: right;\n",
       "    }\n",
       "</style>\n",
       "<table border=\"1\" class=\"dataframe\">\n",
       "  <thead>\n",
       "    <tr style=\"text-align: right;\">\n",
       "      <th></th>\n",
       "      <th>creditscore</th>\n",
       "      <th>age</th>\n",
       "      <th>tenure</th>\n",
       "      <th>balance</th>\n",
       "      <th>numofproducts</th>\n",
       "      <th>hascrcard</th>\n",
       "      <th>isactivemember</th>\n",
       "      <th>estimatedsalary</th>\n",
       "      <th>exited</th>\n",
       "      <th>geography_Germany</th>\n",
       "      <th>geography_Spain</th>\n",
       "      <th>gender_Male</th>\n",
       "    </tr>\n",
       "  </thead>\n",
       "  <tbody>\n",
       "    <tr>\n",
       "      <td>0</td>\n",
       "      <td>619</td>\n",
       "      <td>42</td>\n",
       "      <td>2</td>\n",
       "      <td>0.0</td>\n",
       "      <td>1</td>\n",
       "      <td>1</td>\n",
       "      <td>1</td>\n",
       "      <td>101348.88</td>\n",
       "      <td>1</td>\n",
       "      <td>0</td>\n",
       "      <td>0</td>\n",
       "      <td>0</td>\n",
       "    </tr>\n",
       "  </tbody>\n",
       "</table>\n",
       "</div>"
      ],
      "text/plain": [
       "   creditscore  age  tenure  balance  numofproducts  hascrcard  \\\n",
       "0          619   42       2      0.0              1          1   \n",
       "\n",
       "   isactivemember  estimatedsalary  exited  geography_Germany  \\\n",
       "0               1        101348.88       1                  0   \n",
       "\n",
       "   geography_Spain  gender_Male  \n",
       "0                0            0  "
      ]
     },
     "execution_count": 7,
     "metadata": {},
     "output_type": "execute_result"
    }
   ],
   "source": [
    "#Применим прямое кодирование (OHE):\n",
    "churn = pd.get_dummies(churn, drop_first=True)\n",
    "churn.head(1)"
   ]
  },
  {
   "cell_type": "markdown",
   "metadata": {},
   "source": [
    "### Вывод\n",
    "\n",
    "В исходном датафрейме содержится 10000 записей, представляющих собой информацию по конкретным пользователям с указанием индивидуальных данных в т.ч. банковских. Для удобства дальнейшего анализа были переименованы названия столбцов. Пропуски содержадись только в столбце \"Недвижимость\", которые мы заменили на значение, выходящее за используемый диапазон (в дальнейшем можно попробовать изменить значение с -1 на какое-либо другое в зависимости от показателей F1).<br>\n",
    "UPD.: заменил пропуски на медиану - показатели немного выросли, поэтому оставил её.<br>\n",
    "Также изменили тип данных столбца на целочисленный. \n",
    "\n",
    "Дополнительно удалили столбец с фамилиями, номером строки и ID клиента и применили Прямое кодирование с обходом дамми-ловушки."
   ]
  },
  {
   "cell_type": "markdown",
   "metadata": {},
   "source": [
    "# 2. Исследование задачи"
   ]
  },
  {
   "cell_type": "markdown",
   "metadata": {},
   "source": [
    "Исследуем баланс классов, обучим модели без учёта дисбаланса."
   ]
  },
  {
   "cell_type": "code",
   "execution_count": 8,
   "metadata": {},
   "outputs": [],
   "source": [
    "#Выделим признаки\n",
    "target = churn['exited']\n",
    "features = churn.drop('exited', axis=1)"
   ]
  },
  {
   "cell_type": "code",
   "execution_count": 9,
   "metadata": {},
   "outputs": [
    {
     "name": "stdout",
     "output_type": "stream",
     "text": [
      "Размеры полученных выборок признаков и целевого признака:\n",
      "Тестовая:      (2000, 11) (2000,)\n",
      "Обучающая:     (6000, 11) (6000,)\n",
      "Валидационная: (2000, 11) (2000,)\n"
     ]
    }
   ],
   "source": [
    "#Поскольку датасет один и нет \"спрятанных\" тестовых выборок, то разделим данные на 3 выборки:\n",
    "#обучающую (60%), валидационную (20%) и тестовую (20%) в соотношении 3-1-1 соответственно.\n",
    "#выделим тестовую выборку (20%):\n",
    "features_test, features_valid_train, target_test, target_valid_train = train_test_split(\n",
    "    features, target, test_size=0.8, random_state=12345)\n",
    "#Оставшийся сет разделим на валидационную и обучающую:\n",
    "features_train, features_valid, target_train, target_valid = train_test_split(\n",
    "    features_valid_train, target_valid_train, test_size=0.25, random_state=12345)\n",
    "print(\"Размеры полученных выборок признаков и целевого признака:\")\n",
    "print(\"Тестовая:     \", features_test.shape, target_test.shape)\n",
    "print(\"Обучающая:    \", features_train.shape, target_train.shape)\n",
    "print(\"Валидационная:\", features_valid.shape, target_valid.shape)"
   ]
  },
  {
   "cell_type": "code",
   "execution_count": 10,
   "metadata": {},
   "outputs": [
    {
     "data": {
      "text/plain": [
       "Counter({1: 2037, 0: 7963})"
      ]
     },
     "execution_count": 10,
     "metadata": {},
     "output_type": "execute_result"
    }
   ],
   "source": [
    "#Посмотрим на баланс классов:\n",
    "Counter(target)"
   ]
  },
  {
   "cell_type": "markdown",
   "metadata": {},
   "source": [
    "Видим дисбаланс классов.\n",
    "Для начала обучим модели без балансировки классов."
   ]
  },
  {
   "cell_type": "code",
   "execution_count": 11,
   "metadata": {},
   "outputs": [],
   "source": [
    "numeric = ['creditscore', 'age', 'tenure', 'balance', 'numofproducts', 'estimatedsalary']\n",
    "#Масштабируем признаки\n",
    "scaler = StandardScaler()\n",
    "scaler.fit(features_train[numeric])\n",
    "features_train[numeric] = scaler.transform(features_train[numeric])\n",
    "features_valid[numeric] = scaler.transform(features_valid[numeric])\n",
    "features_test[numeric] = scaler.transform(features_test[numeric])"
   ]
  },
  {
   "cell_type": "code",
   "execution_count": 12,
   "metadata": {},
   "outputs": [],
   "source": [
    "#Создадим функцию по вычислению метрик модели (точность, полнота, f1, r2)\n",
    "#def metrics(targets, predicteds):\n",
    "#Или сделать def model?\n",
    "def usemodel(model):\n",
    "    model.fit(features_train, target_train)\n",
    "    predicted_valid = model.predict(features_valid)\n",
    "    print(\"Правильность =\", round(accuracy_score(target_valid, predicted_valid), 2))\n",
    "    print(\"Точность =\", round(precision_score(target_valid, predicted_valid), 2))\n",
    "    print(\"Полнота =\", round(recall_score(target_valid, predicted_valid), 2))\n",
    "    print(\"F1 =\", round(f1_score(target_valid, predicted_valid), 2))"
   ]
  },
  {
   "cell_type": "code",
   "execution_count": 13,
   "metadata": {
    "scrolled": true
   },
   "outputs": [
    {
     "name": "stdout",
     "output_type": "stream",
     "text": [
      "Правильность = 0.81\n",
      "Точность = 0.61\n",
      "Полнота = 0.22\n",
      "F1 = 0.32\n"
     ]
    }
   ],
   "source": [
    "import numpy as np\n",
    "model_lr = LogisticRegression(random_state=12345, solver='liblinear')\n",
    "usemodel(model_lr)"
   ]
  },
  {
   "cell_type": "markdown",
   "metadata": {},
   "source": [
    "Показатель F1 = 0.33, что очеть плохо. Полнота = 0.22,вероятно, из-за сильного дисбаланса классов. В следующей главе проверим модель на сбалансированной выборке."
   ]
  },
  {
   "cell_type": "code",
   "execution_count": 14,
   "metadata": {
    "scrolled": true
   },
   "outputs": [
    {
     "name": "stdout",
     "output_type": "stream",
     "text": [
      "Правильность = 0.85\n",
      "Точность = 0.74\n",
      "Полнота = 0.45\n",
      "F1 = 0.56\n"
     ]
    }
   ],
   "source": [
    "model_dtc = DecisionTreeClassifier(random_state=12345, max_depth=7)\n",
    "usemodel(model_dtc)"
   ]
  },
  {
   "cell_type": "markdown",
   "metadata": {},
   "source": [
    "Модель предсказывает точнее, чем среднее, но по-прежнему качество достаточно низкое."
   ]
  },
  {
   "cell_type": "code",
   "execution_count": 15,
   "metadata": {},
   "outputs": [
    {
     "name": "stdout",
     "output_type": "stream",
     "text": [
      "Правильность = 0.85\n",
      "Точность = 0.78\n",
      "Полнота = 0.38\n",
      "F1 = 0.51\n"
     ]
    }
   ],
   "source": [
    "model_rfr = RandomForestClassifier(random_state=12345, n_estimators=12, max_depth=7)\n",
    "usemodel(model_rfr)"
   ]
  },
  {
   "cell_type": "markdown",
   "metadata": {},
   "source": [
    "Метрики предсказаний модели Случайный лес аналогичны метрикам модели Дерево решений."
   ]
  },
  {
   "cell_type": "markdown",
   "metadata": {},
   "source": [
    "### Вывод\n",
    "\n",
    "Поскольку датасет один и нет \"спрятанных\" тестовых выборок, то разделили данные на 3 выборки: обучающую (60%), валидационную (20%) и тестовую (20%) в соотношении 3-1-1 соответственно. Выполнили масштабирование признаков и обучили три модели. Качество моделей близко к \"среднему\": f1=0.53-0.56 при точности 0.8, но полноте 0.4. Вероятно на полноту влияет дисбаланс классов."
   ]
  },
  {
   "cell_type": "markdown",
   "metadata": {},
   "source": [
    "# 3. Борьба с дисбалансом"
   ]
  },
  {
   "cell_type": "markdown",
   "metadata": {},
   "source": [
    "Улучшим качество моделей, учитывая дисбаланс классов. Обучим разные модели и найдием лучшую."
   ]
  },
  {
   "cell_type": "code",
   "execution_count": 16,
   "metadata": {},
   "outputs": [],
   "source": [
    "#Фунция Апсэмплинга:\n",
    "def upsample(features, target, repeat):\n",
    "    features_zeros = features[target == 0]\n",
    "    features_ones = features[target == 1]\n",
    "    target_zeros = target[target == 0]\n",
    "    target_ones = target[target == 1]\n",
    "    features_upsampled = pd.concat([features_zeros] + [features_ones] * repeat)\n",
    "    target_upsampled = pd.concat([target_zeros] + [target_ones] * repeat)\n",
    "\n",
    "    features_upsampled, target_upsampled = shuffle(\n",
    "        features_upsampled, target_upsampled, random_state=12345)\n",
    "    \n",
    "    return features_upsampled, target_upsampled\n",
    "\n",
    "features_upsampled, target_upsampled = upsample(features_train, target_train, 8)"
   ]
  },
  {
   "cell_type": "code",
   "execution_count": 17,
   "metadata": {},
   "outputs": [],
   "source": [
    "#Функция обучения модели по выборке после увеличения выборки\n",
    "def usemodel_up(model):\n",
    "    model.fit(features_upsampled, target_upsampled)\n",
    "    predicted_valid = model.predict(features_valid)\n",
    "    print(\"Правильность =\", round(accuracy_score(target_valid, predicted_valid), 2))\n",
    "    print(\"Точность =\", round(precision_score(target_valid, predicted_valid), 2))\n",
    "    print(\"Полнота =\", round(recall_score(target_valid, predicted_valid), 2))\n",
    "    print(\"F1 =\", round(f1_score(target_valid, predicted_valid), 3))"
   ]
  },
  {
   "cell_type": "code",
   "execution_count": 18,
   "metadata": {},
   "outputs": [],
   "source": [
    "#Функция уменьшения выборки\n",
    "def downsample(features, target, fraction):\n",
    "    features_zeros = features[target == 0]\n",
    "    features_ones = features[target == 1]\n",
    "    target_zeros = target[target == 0]\n",
    "    target_ones = target[target == 1]\n",
    "\n",
    "    features_downsampled = pd.concat(\n",
    "        [features_zeros.sample(frac=fraction, random_state=12345)] + [features_ones])\n",
    "    target_downsampled = pd.concat(\n",
    "        [target_zeros.sample(frac=fraction, random_state=12345)] + [target_ones])\n",
    "    \n",
    "    features_downsampled, target_downsampled = shuffle(\n",
    "        features_downsampled, target_downsampled, random_state=12345)\n",
    "    \n",
    "    return features_downsampled, target_downsampled\n",
    "\n",
    "features_downsampled, target_downsampled = downsample(features_train, target_train, 0.3)"
   ]
  },
  {
   "cell_type": "code",
   "execution_count": 19,
   "metadata": {},
   "outputs": [],
   "source": [
    "#Функция обучения модели по выборке после уменьшения выборки\n",
    "def usemodel_down(model):\n",
    "    model.fit(features_downsampled, target_downsampled)\n",
    "    predicted_valid = model.predict(features_valid)\n",
    "    print(\"Правильность =\", round(accuracy_score(target_valid, predicted_valid), 2))\n",
    "    print(\"Точность =\", round(precision_score(target_valid, predicted_valid), 2))\n",
    "    print(\"Полнота =\", round(recall_score(target_valid, predicted_valid), 2))\n",
    "    print(\"F1 =\", round(f1_score(target_valid, predicted_valid), 3))"
   ]
  },
  {
   "cell_type": "code",
   "execution_count": 20,
   "metadata": {
    "scrolled": true
   },
   "outputs": [
    {
     "name": "stdout",
     "output_type": "stream",
     "text": [
      "Размеры полученных выборок:\n",
      "Начальная:   6000\n",
      "Увеличенная: 14274\n",
      "Уменьшенная: 2627\n"
     ]
    }
   ],
   "source": [
    "print(\"Размеры полученных выборок:\")\n",
    "print(\"Начальная:  \", features_train.shape[0])\n",
    "print(\"Увеличенная:\", features_upsampled.shape[0])\n",
    "print(\"Уменьшенная:\", features_downsampled.shape[0])"
   ]
  },
  {
   "cell_type": "markdown",
   "metadata": {},
   "source": [
    "Обучение моделей на уменьшенной, увеличенной и автосбалансированоой выборках."
   ]
  },
  {
   "cell_type": "markdown",
   "metadata": {},
   "source": [
    "Логистическая регрессия:"
   ]
  },
  {
   "cell_type": "code",
   "execution_count": 21,
   "metadata": {},
   "outputs": [
    {
     "name": "stdout",
     "output_type": "stream",
     "text": [
      "Правильность = 0.56\n",
      "Точность = 0.3\n",
      "Полнота = 0.86\n",
      "F1 = 0.447\n"
     ]
    }
   ],
   "source": [
    "model_up_lr = LogisticRegression(random_state=12345, solver='liblinear')\n",
    "usemodel_up(model_up_lr)"
   ]
  },
  {
   "cell_type": "code",
   "execution_count": 22,
   "metadata": {
    "scrolled": true
   },
   "outputs": [
    {
     "name": "stdout",
     "output_type": "stream",
     "text": [
      "Правильность = 0.75\n",
      "Точность = 0.43\n",
      "Полнота = 0.6\n",
      "F1 = 0.5\n"
     ]
    }
   ],
   "source": [
    "model_down_lr = LogisticRegression(random_state=12345, solver='liblinear')\n",
    "usemodel_down(model_down_lr)"
   ]
  },
  {
   "cell_type": "code",
   "execution_count": 23,
   "metadata": {},
   "outputs": [
    {
     "name": "stdout",
     "output_type": "stream",
     "text": [
      "Правильность = 0.81\n",
      "Точность = 0.61\n",
      "Полнота = 0.22\n",
      "F1 = 0.32\n"
     ]
    }
   ],
   "source": [
    "model_auto_lr = LogisticRegression(random_state=12345, solver='liblinear')\n",
    "usemodel(model_auto_lr)"
   ]
  },
  {
   "cell_type": "markdown",
   "metadata": {},
   "source": [
    "Дерево:"
   ]
  },
  {
   "cell_type": "code",
   "execution_count": 24,
   "metadata": {},
   "outputs": [
    {
     "name": "stdout",
     "output_type": "stream",
     "text": [
      "Правильность = 0.8\n",
      "Точность = 0.53\n",
      "Полнота = 0.49\n",
      "F1 = 0.508\n"
     ]
    }
   ],
   "source": [
    "model_up_dtc = DecisionTreeClassifier(random_state=12345, max_depth=20)\n",
    "usemodel_up(model_up_dtc)"
   ]
  },
  {
   "cell_type": "code",
   "execution_count": 25,
   "metadata": {
    "scrolled": false
   },
   "outputs": [
    {
     "name": "stdout",
     "output_type": "stream",
     "text": [
      "Правильность = 0.79\n",
      "Точность = 0.49\n",
      "Полнота = 0.69\n",
      "F1 = 0.573\n"
     ]
    }
   ],
   "source": [
    "model_down_dtc = DecisionTreeClassifier(random_state=12345, max_depth=6)\n",
    "usemodel_down(model_down_dtc)"
   ]
  },
  {
   "cell_type": "code",
   "execution_count": 26,
   "metadata": {},
   "outputs": [
    {
     "name": "stdout",
     "output_type": "stream",
     "text": [
      "Правильность = 0.76\n",
      "Точность = 0.46\n",
      "Полнота = 0.77\n",
      "F1 = 0.57\n"
     ]
    }
   ],
   "source": [
    "model_auto_dtc = DecisionTreeClassifier(random_state=12345, max_depth=6, class_weight='balanced')\n",
    "usemodel(model_auto_dtc)"
   ]
  },
  {
   "cell_type": "markdown",
   "metadata": {},
   "source": [
    "Лес:"
   ]
  },
  {
   "cell_type": "code",
   "execution_count": 27,
   "metadata": {},
   "outputs": [
    {
     "name": "stdout",
     "output_type": "stream",
     "text": [
      "Правильность = 0.72\n",
      "Точность = 0.41\n",
      "Полнота = 0.81\n",
      "F1 = 0.545\n"
     ]
    }
   ],
   "source": [
    "model_up_rfr = RandomForestClassifier(random_state=12345, n_estimators=12, max_depth=7)\n",
    "usemodel_up(model_up_rfr)"
   ]
  },
  {
   "cell_type": "code",
   "execution_count": 28,
   "metadata": {
    "scrolled": false
   },
   "outputs": [
    {
     "name": "stdout",
     "output_type": "stream",
     "text": [
      "Правильность = 0.81\n",
      "Точность = 0.54\n",
      "Полнота = 0.66\n",
      "F1 = 0.593\n"
     ]
    }
   ],
   "source": [
    "model_down_rfr = RandomForestClassifier(random_state=12345, n_estimators=12, max_depth=7)\n",
    "usemodel_down(model_down_rfr)"
   ]
  },
  {
   "cell_type": "code",
   "execution_count": 29,
   "metadata": {},
   "outputs": [
    {
     "name": "stdout",
     "output_type": "stream",
     "text": [
      "Правильность = 0.82\n",
      "Точность = 0.56\n",
      "Полнота = 0.66\n",
      "F1 = 0.6\n"
     ]
    }
   ],
   "source": [
    "model_auto_rfr = RandomForestClassifier(random_state=12345, n_estimators=12, max_depth=7, class_weight='balanced')\n",
    "usemodel(model_auto_rfr)"
   ]
  },
  {
   "cell_type": "code",
   "execution_count": 30,
   "metadata": {
    "scrolled": false
   },
   "outputs": [
    {
     "name": "stdout",
     "output_type": "stream",
     "text": [
      "\n",
      "Деревьев: 1\n",
      "глубина: 1\n",
      "F1 = 0.23\n",
      "глубина: 8\n",
      "F1 = 0.53\n",
      "глубина: 15\n",
      "F1 = 0.5\n",
      "глубина: 22\n",
      "F1 = 0.5\n",
      "\n",
      "Деревьев: 8\n",
      "глубина: 1\n",
      "F1 = 0.51\n",
      "глубина: 8\n",
      "F1 = 0.58\n",
      "глубина: 15\n",
      "F1 = 0.54\n",
      "глубина: 22\n",
      "F1 = 0.5\n",
      "\n",
      "Деревьев: 15\n",
      "глубина: 1\n",
      "F1 = 0.53\n",
      "глубина: 8\n",
      "F1 = 0.61\n",
      "глубина: 15\n",
      "F1 = 0.54\n",
      "глубина: 22\n",
      "F1 = 0.53\n",
      "\n",
      "Деревьев: 22\n",
      "глубина: 1\n",
      "F1 = 0.51\n",
      "глубина: 8\n",
      "F1 = 0.61\n",
      "глубина: 15\n",
      "F1 = 0.55\n",
      "глубина: 22\n",
      "F1 = 0.53\n",
      "\n",
      "Деревьев: 29\n",
      "глубина: 1\n",
      "F1 = 0.5\n",
      "глубина: 8\n",
      "F1 = 0.61\n",
      "глубина: 15\n",
      "F1 = 0.55\n",
      "глубина: 22\n",
      "F1 = 0.54\n",
      "\n",
      "Деревьев: 36\n",
      "глубина: 1\n",
      "F1 = 0.5\n",
      "глубина: 8\n",
      "F1 = 0.62\n",
      "глубина: 15\n",
      "F1 = 0.55\n",
      "глубина: 22\n",
      "F1 = 0.54\n",
      "\n",
      "Деревьев: 43\n",
      "глубина: 1\n",
      "F1 = 0.52\n",
      "глубина: 8\n",
      "F1 = 0.61\n",
      "глубина: 15\n",
      "F1 = 0.55\n",
      "глубина: 22\n",
      "F1 = 0.55\n",
      "\n",
      "Деревьев: 50\n",
      "глубина: 1\n",
      "F1 = 0.5\n",
      "глубина: 8\n",
      "F1 = 0.61\n",
      "глубина: 15\n",
      "F1 = 0.55\n",
      "глубина: 22\n",
      "F1 = 0.55\n",
      "\n",
      "Деревьев: 57\n",
      "глубина: 1\n",
      "F1 = 0.5\n",
      "глубина: 8\n",
      "F1 = 0.61\n",
      "глубина: 15\n",
      "F1 = 0.56\n",
      "глубина: 22\n",
      "F1 = 0.55\n",
      "\n",
      "Деревьев: 64\n",
      "глубина: 1\n",
      "F1 = 0.5\n",
      "глубина: 8\n",
      "F1 = 0.61\n",
      "глубина: 15\n",
      "F1 = 0.57\n",
      "глубина: 22\n",
      "F1 = 0.55\n",
      "\n",
      "Деревьев: 71\n",
      "глубина: 1\n",
      "F1 = 0.5\n",
      "глубина: 8\n",
      "F1 = 0.61\n",
      "глубина: 15\n",
      "F1 = 0.56\n",
      "глубина: 22\n",
      "F1 = 0.55\n"
     ]
    }
   ],
   "source": [
    "#Попробуем изменить гиперпараметры леса:\n",
    "#Авто выборка:\n",
    "for estim in range(1, 76, 7):\n",
    "    print(\"\\nДеревьев:\", estim)\n",
    "    for depth in range(1, 26, 7):\n",
    "        print(\"глубина:\", depth)\n",
    "        model_rfc = RandomForestClassifier(random_state=12345, n_estimators=estim,  max_depth=depth, class_weight='balanced')\n",
    "        #Обучаем\n",
    "        model_rfc.fit(features_train, target_train)\n",
    "\n",
    "        #Предсказываем\n",
    "        predicted_valid = model_rfc.predict(features_valid)\n",
    "        print(\"F1 =\", round(f1_score(target_valid, predicted_valid), 2))"
   ]
  },
  {
   "cell_type": "markdown",
   "metadata": {},
   "source": [
    "Лучший показатель 0.6 при параметрах: Деревьев: 29 и Глубина: 1"
   ]
  },
  {
   "cell_type": "code",
   "execution_count": 31,
   "metadata": {
    "scrolled": false
   },
   "outputs": [
    {
     "name": "stdout",
     "output_type": "stream",
     "text": [
      "\n",
      "Деревьев: 1\n",
      "глубина: 1\n",
      "F1 = 0.23\n",
      "глубина: 8\n",
      "F1 = 0.54\n",
      "глубина: 15\n",
      "F1 = 0.49\n",
      "глубина: 22\n",
      "F1 = 0.51\n",
      "\n",
      "Деревьев: 8\n",
      "глубина: 1\n",
      "F1 = 0.42\n",
      "глубина: 8\n",
      "F1 = 0.58\n",
      "глубина: 15\n",
      "F1 = 0.58\n",
      "глубина: 22\n",
      "F1 = 0.57\n",
      "\n",
      "Деревьев: 15\n",
      "глубина: 1\n",
      "F1 = 0.51\n",
      "глубина: 8\n",
      "F1 = 0.58\n",
      "глубина: 15\n",
      "F1 = 0.58\n",
      "глубина: 22\n",
      "F1 = 0.57\n",
      "\n",
      "Деревьев: 22\n",
      "глубина: 1\n",
      "F1 = 0.53\n",
      "глубина: 8\n",
      "F1 = 0.61\n",
      "глубина: 15\n",
      "F1 = 0.59\n",
      "глубина: 22\n",
      "F1 = 0.59\n",
      "\n",
      "Деревьев: 29\n",
      "глубина: 1\n",
      "F1 = 0.54\n",
      "глубина: 8\n",
      "F1 = 0.6\n",
      "глубина: 15\n",
      "F1 = 0.59\n",
      "глубина: 22\n",
      "F1 = 0.59\n",
      "\n",
      "Деревьев: 36\n",
      "глубина: 1\n",
      "F1 = 0.55\n",
      "глубина: 8\n",
      "F1 = 0.6\n",
      "глубина: 15\n",
      "F1 = 0.59\n",
      "глубина: 22\n",
      "F1 = 0.59\n",
      "\n",
      "Деревьев: 43\n",
      "глубина: 1\n",
      "F1 = 0.53\n",
      "глубина: 8\n",
      "F1 = 0.6\n",
      "глубина: 15\n",
      "F1 = 0.59\n",
      "глубина: 22\n",
      "F1 = 0.6\n",
      "\n",
      "Деревьев: 50\n",
      "глубина: 1\n",
      "F1 = 0.55\n",
      "глубина: 8\n",
      "F1 = 0.61\n",
      "глубина: 15\n",
      "F1 = 0.59\n",
      "глубина: 22\n",
      "F1 = 0.59\n",
      "\n",
      "Деревьев: 57\n",
      "глубина: 1\n",
      "F1 = 0.55\n",
      "глубина: 8\n",
      "F1 = 0.6\n",
      "глубина: 15\n",
      "F1 = 0.59\n",
      "глубина: 22\n",
      "F1 = 0.6\n",
      "\n",
      "Деревьев: 64\n",
      "глубина: 1\n",
      "F1 = 0.55\n",
      "глубина: 8\n",
      "F1 = 0.61\n",
      "глубина: 15\n",
      "F1 = 0.59\n",
      "глубина: 22\n",
      "F1 = 0.6\n",
      "\n",
      "Деревьев: 71\n",
      "глубина: 1\n",
      "F1 = 0.55\n",
      "глубина: 8\n",
      "F1 = 0.6\n",
      "глубина: 15\n",
      "F1 = 0.59\n",
      "глубина: 22\n",
      "F1 = 0.6\n"
     ]
    }
   ],
   "source": [
    "#Уменьшенная:\n",
    "for estim in range(1, 76, 7):\n",
    "    print(\"\\nДеревьев:\", estim)\n",
    "    for depth in range(1, 26, 7):\n",
    "        print(\"глубина:\", depth)\n",
    "        model_rfc = RandomForestClassifier(random_state=12345, n_estimators=estim,  max_depth=depth)\n",
    "        #Обучаем\n",
    "        model_rfc.fit(features_downsampled, target_downsampled)\n",
    "\n",
    "        #Предсказываем\n",
    "        predicted_valid = model_rfc.predict(features_valid)\n",
    "        print(\"F1 =\", round(f1_score(target_valid, predicted_valid), 2))"
   ]
  },
  {
   "cell_type": "markdown",
   "metadata": {},
   "source": [
    "Лучший показатель 0.61 при параметрах: Деревьев: 29 и Глубина: 8.\n",
    "Убрал автобалансировку, стало получше."
   ]
  },
  {
   "cell_type": "code",
   "execution_count": 32,
   "metadata": {
    "scrolled": false
   },
   "outputs": [
    {
     "name": "stdout",
     "output_type": "stream",
     "text": [
      "\n",
      "Деревьев: 1\n",
      "глубина: 1\n",
      "F1 = 0.35\n",
      "глубина: 8\n",
      "F1 = 0.5\n",
      "глубина: 15\n",
      "F1 = 0.48\n",
      "глубина: 22\n",
      "F1 = 0.45\n",
      "\n",
      "Деревьев: 8\n",
      "глубина: 1\n",
      "F1 = 0.35\n",
      "глубина: 8\n",
      "F1 = 0.54\n",
      "глубина: 15\n",
      "F1 = 0.57\n",
      "глубина: 22\n",
      "F1 = 0.57\n",
      "\n",
      "Деревьев: 15\n",
      "глубина: 1\n",
      "F1 = 0.35\n",
      "глубина: 8\n",
      "F1 = 0.55\n",
      "глубина: 15\n",
      "F1 = 0.58\n",
      "глубина: 22\n",
      "F1 = 0.57\n",
      "\n",
      "Деревьев: 22\n",
      "глубина: 1\n",
      "F1 = 0.35\n",
      "глубина: 8\n",
      "F1 = 0.55\n",
      "глубина: 15\n",
      "F1 = 0.58\n",
      "глубина: 22\n",
      "F1 = 0.57\n",
      "\n",
      "Деревьев: 29\n",
      "глубина: 1\n",
      "F1 = 0.35\n",
      "глубина: 8\n",
      "F1 = 0.55\n",
      "глубина: 15\n",
      "F1 = 0.58\n",
      "глубина: 22\n",
      "F1 = 0.58\n",
      "\n",
      "Деревьев: 36\n",
      "глубина: 1\n",
      "F1 = 0.35\n",
      "глубина: 8\n",
      "F1 = 0.55\n",
      "глубина: 15\n",
      "F1 = 0.57\n",
      "глубина: 22\n",
      "F1 = 0.57\n",
      "\n",
      "Деревьев: 43\n",
      "глубина: 1\n",
      "F1 = 0.35\n",
      "глубина: 8\n",
      "F1 = 0.55\n",
      "глубина: 15\n",
      "F1 = 0.58\n",
      "глубина: 22\n",
      "F1 = 0.59\n",
      "\n",
      "Деревьев: 50\n",
      "глубина: 1\n",
      "F1 = 0.35\n",
      "глубина: 8\n",
      "F1 = 0.56\n",
      "глубина: 15\n",
      "F1 = 0.59\n",
      "глубина: 22\n",
      "F1 = 0.59\n",
      "\n",
      "Деревьев: 57\n",
      "глубина: 1\n",
      "F1 = 0.35\n",
      "глубина: 8\n",
      "F1 = 0.55\n",
      "глубина: 15\n",
      "F1 = 0.59\n",
      "глубина: 22\n",
      "F1 = 0.59\n",
      "\n",
      "Деревьев: 64\n",
      "глубина: 1\n",
      "F1 = 0.35\n",
      "глубина: 8\n",
      "F1 = 0.55\n",
      "глубина: 15\n",
      "F1 = 0.59\n",
      "глубина: 22\n",
      "F1 = 0.58\n",
      "\n",
      "Деревьев: 71\n",
      "глубина: 1\n",
      "F1 = 0.35\n",
      "глубина: 8\n",
      "F1 = 0.56\n",
      "глубина: 15\n",
      "F1 = 0.59\n",
      "глубина: 22\n",
      "F1 = 0.6\n"
     ]
    }
   ],
   "source": [
    "#Расширенная выборка\n",
    "for estim in range(1, 76, 7):\n",
    "    print(\"\\nДеревьев:\", estim)\n",
    "    for depth in range(1, 26, 7):\n",
    "        print(\"глубина:\", depth)\n",
    "        model_rfc = RandomForestClassifier(random_state=12345, n_estimators=estim,  max_depth=depth)\n",
    "        #Обучаем\n",
    "        model_rfc.fit(features_upsampled, target_upsampled)\n",
    "\n",
    "        #Предсказываем\n",
    "        predicted_valid = model_rfc.predict(features_valid)\n",
    "        print(\"F1 =\", round(f1_score(target_valid, predicted_valid), 2))"
   ]
  },
  {
   "cell_type": "markdown",
   "metadata": {},
   "source": [
    "Лучший показатель F1 = 0.59 при параметрах: Деревьев: 50 и Глубина: 15.\n",
    "Аналогичные показатели F1 были и при других параметрах, но они более трудозатратны."
   ]
  },
  {
   "cell_type": "markdown",
   "metadata": {},
   "source": [
    "Лучше всего себя показала модель Лес деревьев при обучении на выборке с down-сэмплингом при 29 деревьях и глубине 8. Её и будем использовать в дальнейшем."
   ]
  },
  {
   "cell_type": "code",
   "execution_count": 33,
   "metadata": {},
   "outputs": [
    {
     "name": "stdout",
     "output_type": "stream",
     "text": [
      "Правильность = 0.81\n",
      "Точность = 0.53\n",
      "Полнота = 0.7\n",
      "F1 = 0.6\n"
     ]
    }
   ],
   "source": [
    "#FINAL\n",
    "model_final = RandomForestClassifier(random_state=12345, n_estimators=29,  max_depth=8)\n",
    "model_final.fit(features_downsampled, target_downsampled)\n",
    "predicted_valid = model_final.predict(features_valid)\n",
    "print(\"Правильность =\", round(accuracy_score(target_valid, predicted_valid), 2))\n",
    "print(\"Точность =\", round(precision_score(target_valid, predicted_valid), 2))\n",
    "print(\"Полнота =\", round(recall_score(target_valid, predicted_valid), 2))\n",
    "print(\"F1 =\", round(f1_score(target_valid, predicted_valid), 2))"
   ]
  },
  {
   "cell_type": "code",
   "execution_count": 34,
   "metadata": {},
   "outputs": [
    {
     "data": {
      "text/plain": [
       "0.8478154356123615"
      ]
     },
     "execution_count": 34,
     "metadata": {},
     "output_type": "execute_result"
    }
   ],
   "source": [
    "probabilities_valid = model_final.predict_proba(features_valid)\n",
    "probabilities_one_valid = probabilities_valid[:, 1]\n",
    "auc_roc = roc_auc_score(target_valid, probabilities_one_valid)\n",
    "auc_roc"
   ]
  },
  {
   "cell_type": "code",
   "execution_count": 35,
   "metadata": {
    "scrolled": true
   },
   "outputs": [
    {
     "data": {
      "image/png": "[encoded data removed]",
      "text/plain": [
       "<Figure size 432x288 with 1 Axes>"
      ]
     },
     "metadata": {
      "needs_background": "light"
     },
     "output_type": "display_data"
    }
   ],
   "source": [
    "fpr, tpr, thresholds = roc_curve(target_valid, probabilities_one_valid)\n",
    "\n",
    "plt.figure()\n",
    "\n",
    "# < постройте график >\n",
    "plt.plot(fpr, tpr)\n",
    "# ROC-кривая случайной модели (выглядит как прямая)\n",
    "plt.plot([0, 1], [0, 1], linestyle='--')\n",
    "\n",
    "# < примените функции plt.xlim() и plt.ylim(), чтобы\n",
    "#   установить границы осей от 0 до 1 >\n",
    "plt.xlim([0.0, 1.0])\n",
    "plt.ylim([0.0, 1.0])\n",
    "# < примените функции plt.xlabel() и plt.ylabel(), чтобы\n",
    "#   подписать оси \"False Positive Rate\" и \"True Positive Rate\" >\n",
    "plt.xlabel('False Positive Rate')\n",
    "plt.ylabel('True Positive Rate')\n",
    "plt.title('ROC-кривая')\n",
    "# < добавьте к графику заголовок \"ROC-кривая\" функцией plt.title() >\n",
    "\n",
    "plt.show()"
   ]
  },
  {
   "cell_type": "markdown",
   "metadata": {},
   "source": [
    "### Вывод\n",
    "\n",
    "Был учтен баланс классов и обучены различные модели. Показатели всех моделей выросли относительно предыдущей главы. Лучше всего себя показала модель Случайный лес, обученной на уменьшенной выборке. Получилось добиться метрик F1=0.61 и ROC-AUC = 0.85, что значительно превышает качество случайного предсказания, что видно на графике."
   ]
  },
  {
   "cell_type": "markdown",
   "metadata": {},
   "source": [
    "# 4. Тестирование модели"
   ]
  },
  {
   "cell_type": "markdown",
   "metadata": {},
   "source": [
    "Проведем финальное тестирование."
   ]
  },
  {
   "cell_type": "code",
   "execution_count": 36,
   "metadata": {
    "scrolled": true
   },
   "outputs": [
    {
     "name": "stdout",
     "output_type": "stream",
     "text": [
      "Правильность = 0.83\n",
      "Точность = 0.58\n",
      "Полнота = 0.73\n",
      "F1 = 0.65\n"
     ]
    }
   ],
   "source": [
    "model_test = RandomForestClassifier(random_state=12345, n_estimators=29,  max_depth=8)\n",
    "model_test.fit(features_downsampled, target_downsampled)\n",
    "predicted_test = model_test.predict(features_test)\n",
    "print(\"Правильность =\", round(accuracy_score(target_test, predicted_test), 2))\n",
    "print(\"Точность =\", round(precision_score(target_test, predicted_test), 2))\n",
    "print(\"Полнота =\", round(recall_score(target_test, predicted_test), 2))\n",
    "print(\"F1 =\", round(f1_score(target_test, predicted_test), 2))"
   ]
  },
  {
   "cell_type": "markdown",
   "metadata": {},
   "source": [
    "Дополнительно рассмотрим обучение модели на выборке трейн+валидация:"
   ]
  },
  {
   "cell_type": "code",
   "execution_count": 37,
   "metadata": {},
   "outputs": [
    {
     "name": "stdout",
     "output_type": "stream",
     "text": [
      "Правильность = 0.3\n",
      "Точность = 0.19\n",
      "Полнота = 0.69\n",
      "F1 = 0.3\n"
     ]
    }
   ],
   "source": [
    "model_test_vt = RandomForestClassifier(random_state=12345, n_estimators=29,  max_depth=8)\n",
    "model_test_vt.fit(features_valid_train, target_valid_train)\n",
    "predicted_test_vt = model_test_vt.predict(features_test)\n",
    "print(\"Правильность =\", round(accuracy_score(target_test, predicted_test_vt), 2))\n",
    "print(\"Точность =\", round(precision_score(target_test, predicted_test_vt), 2))\n",
    "print(\"Полнота =\", round(recall_score(target_test, predicted_test_vt), 2))\n",
    "print(\"F1 =\", round(f1_score(target_test, predicted_test_vt), 2))"
   ]
  },
  {
   "cell_type": "markdown",
   "metadata": {},
   "source": [
    "Поскольку выборка валид+трейн не масштабирована и не подлежала уменьшению - показатели низкие. Остановимся на предыдущей модели (model_test)."
   ]
  },
  {
   "cell_type": "code",
   "execution_count": 38,
   "metadata": {},
   "outputs": [
    {
     "data": {
      "text/plain": [
       "0.8679811018826379"
      ]
     },
     "execution_count": 38,
     "metadata": {},
     "output_type": "execute_result"
    }
   ],
   "source": [
    "probabilities_test = model_test.predict_proba(features_test)\n",
    "probabilities_one_test = probabilities_test[:, 1]\n",
    "auc_roc = roc_auc_score(target_test, probabilities_one_test)\n",
    "auc_roc"
   ]
  },
  {
   "cell_type": "code",
   "execution_count": 39,
   "metadata": {},
   "outputs": [
    {
     "data": {
      "image/png": "[encoded data removed]",
      "text/plain": [
       "<Figure size 432x288 with 1 Axes>"
      ]
     },
     "metadata": {
      "needs_background": "light"
     },
     "output_type": "display_data"
    }
   ],
   "source": [
    "fpr, tpr, thresholds = roc_curve(target_test, probabilities_one_test)\n",
    "\n",
    "plt.figure()\n",
    "\n",
    "# < постройте график >\n",
    "plt.plot(fpr, tpr)\n",
    "# ROC-кривая случайной модели (выглядит как прямая)\n",
    "plt.plot([0, 1], [0, 1], linestyle='--')\n",
    "\n",
    "# < примените функции plt.xlim() и plt.ylim(), чтобы\n",
    "#   установить границы осей от 0 до 1 >\n",
    "plt.xlim([0.0, 1.0])\n",
    "plt.ylim([0.0, 1.0])\n",
    "# < примените функции plt.xlabel() и plt.ylabel(), чтобы\n",
    "#   подписать оси \"False Positive Rate\" и \"True Positive Rate\" >\n",
    "plt.xlabel('False Positive Rate')\n",
    "plt.ylabel('True Positive Rate')\n",
    "plt.title('ROC-кривая')\n",
    "# < добавьте к графику заголовок \"ROC-кривая\" функцией plt.title() >\n",
    "\n",
    "plt.show()"
   ]
  },
  {
   "cell_type": "markdown",
   "metadata": {},
   "source": [
    "### Вывод\n",
    "\n",
    "В ходе проделанной работы мы обучили достаточно качественную модель на основе случайного леса, были подобраны оптимальные параметры, уменьшена выборка, учтен дисбаланс классов. Благодаря этому удалось достич параметра F1=0.65 на тестовой выборке, ROC-AUC =0.868, что значительно превосходит случайное предсказание."
   ]
  }
 ],
 "metadata": {
  "kernelspec": {
   "display_name": "Python 3",
   "language": "python",
   "name": "python3"
  },
  "language_info": {
   "codemirror_mode": {
    "name": "ipython",
    "version": 3
   },
   "file_extension": ".py",
   "mimetype": "text/x-python",
   "name": "python",
   "nbconvert_exporter": "python",
   "pygments_lexer": "ipython3",
   "version": "3.7.6"
  }
 },
 "nbformat": 4,
 "nbformat_minor": 2
}
